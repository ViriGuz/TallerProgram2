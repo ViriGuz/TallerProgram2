{
  "nbformat": 4,
  "nbformat_minor": 0,
  "metadata": {
    "colab": {
      "provenance": [],
      "authorship_tag": "ABX9TyMMot+UU9xS8r6Vw39CDhlv",
      "include_colab_link": true
    },
    "kernelspec": {
      "name": "python3",
      "display_name": "Python 3"
    },
    "language_info": {
      "name": "python"
    }
  },
  "cells": [
    {
      "cell_type": "markdown",
      "metadata": {
        "id": "view-in-github",
        "colab_type": "text"
      },
      "source": [
        "<a href=\"https://colab.research.google.com/github/ViriGuz/TallerProgram2/blob/main/solucion_taller2.ipynb\" target=\"_parent\"><img src=\"https://colab.research.google.com/assets/colab-badge.svg\" alt=\"Open In Colab\"/></a>"
      ]
    },
    {
      "cell_type": "code",
      "execution_count": null,
      "metadata": {
        "id": "agr2dLIFoM8U"
      },
      "outputs": [],
      "source": [
        "def factorial\n",
        "  for num in range(1, n+1):\n",
        "    prod = prod * num\n",
        "  return prod\n",
        "factorial(10)"
      ]
    },
    {
      "cell_type": "code",
      "source": [
        "def permutaciones(n,k):\n",
        "  numerador ="
      ],
      "metadata": {
        "id": "avJGnLmysVnU"
      },
      "execution_count": null,
      "outputs": []
    }
  ]
}